{
 "cells": [
  {
   "cell_type": "code",
   "execution_count": 1,
   "metadata": {},
   "outputs": [],
   "source": [
    "\n",
    "import pandas as pd\n",
    "import plotly.graph_objects as go\n",
    "from jupyter_dash import JupyterDash\n",
    "import dash\n",
    "import dash_bootstrap_components as dbc\n",
    "from dash.dependencies import Input, Output\n",
    "from utitlity import create_fig,time_input\n",
    "from utitlity import update_graph\n",
    "from dash_layout import set_layout\n",
    "from dash.exceptions import PreventUpdate\n",
    "import dash_bootstrap_components as dbc\n",
    "from dash_layout import set_layout,layout1\n",
    "\n",
    "from dash.dependencies import Input, Output"
   ]
  },
  {
   "cell_type": "code",
   "execution_count": 2,
   "metadata": {},
   "outputs": [],
   "source": [
    "\n",
    "app = JupyterDash(__name__,external_stylesheets=[dbc.themes.CYBORG])\n",
    "\n"
   ]
  },
  {
   "cell_type": "code",
   "execution_count": 3,
   "metadata": {},
   "outputs": [
    {
     "ename": "TypeError",
     "evalue": "Row.__init__() got multiple values for argument 'id'",
     "output_type": "error",
     "traceback": [
      "\u001b[1;31m---------------------------------------------------------------------------\u001b[0m",
      "\u001b[1;31mTypeError\u001b[0m                                 Traceback (most recent call last)",
      "Cell \u001b[1;32mIn[3], line 1\u001b[0m\n\u001b[1;32m----> 1\u001b[0m layout1(app)\n",
      "File \u001b[1;32mc:\\Users\\97254\\PycharmProjects\\dasApllication\\dash_layout.py:59\u001b[0m, in \u001b[0;36mlayout1\u001b[1;34m(dash1)\u001b[0m\n\u001b[0;32m     56\u001b[0m \u001b[39mdef\u001b[39;00m \u001b[39mlayout1\u001b[39m(dash1):\n\u001b[0;32m     57\u001b[0m     dash1\u001b[39m.\u001b[39mlayout \u001b[39m=\u001b[39m dbc\u001b[39m.\u001b[39mContainer\n\u001b[0;32m     58\u001b[0m     (\n\u001b[1;32m---> 59\u001b[0m         dbc\u001b[39m.\u001b[39;49mRow(      \n\u001b[0;32m     60\u001b[0m             dbc\u001b[39m.\u001b[39;49mCol(\n\u001b[0;32m     61\u001b[0m                     [\n\u001b[0;32m     62\u001b[0m                         dbc\u001b[39m.\u001b[39;49mRadioItems(\n\u001b[0;32m     63\u001b[0m                             \u001b[39mid\u001b[39;49m\u001b[39m=\u001b[39;49m\u001b[39m\"\u001b[39;49m\u001b[39mdate\u001b[39;49m\u001b[39m\"\u001b[39;49m,\n\u001b[0;32m     64\u001b[0m                             className\u001b[39m=\u001b[39;49m\u001b[39m\"\u001b[39;49m\u001b[39mbtn-group btn-group p-0 m-0\u001b[39;49m\u001b[39m\"\u001b[39;49m,\n\u001b[0;32m     65\u001b[0m                             inputClassName\u001b[39m=\u001b[39;49m\u001b[39m\"\u001b[39;49m\u001b[39mbtn-check p-auto\u001b[39;49m\u001b[39m\"\u001b[39;49m,\n\u001b[0;32m     66\u001b[0m                             inputStyle\u001b[39m=\u001b[39;49m{\u001b[39m'\u001b[39;49m\u001b[39mborder\u001b[39;49m\u001b[39m'\u001b[39;49m: \u001b[39m'\u001b[39;49m\u001b[39mborder-primary\u001b[39;49m\u001b[39m'\u001b[39;49m},\n\u001b[0;32m     67\u001b[0m                             labelClassName\u001b[39m=\u001b[39;49m\u001b[39m\"\u001b[39;49m\u001b[39mbtn btn-intline-secondary p-auto m-auto\u001b[39;49m\u001b[39m\"\u001b[39;49m,\n\u001b[0;32m     68\u001b[0m                             labelStyle\u001b[39m=\u001b[39;49m{\u001b[39m'\u001b[39;49m\u001b[39mfont-size\u001b[39;49m\u001b[39m'\u001b[39;49m: \u001b[39m'\u001b[39;49m\u001b[39m13px\u001b[39;49m\u001b[39m'\u001b[39;49m, \u001b[39m'\u001b[39;49m\u001b[39mfont-weight\u001b[39;49m\u001b[39m'\u001b[39;49m: \u001b[39m'\u001b[39;49m\u001b[39m500\u001b[39;49m\u001b[39m'\u001b[39;49m, \u001b[39m'\u001b[39;49m\u001b[39mmargin\u001b[39;49m\u001b[39m'\u001b[39;49m: \u001b[39m'\u001b[39;49m\u001b[39m0\u001b[39;49m\u001b[39m'\u001b[39;49m, \u001b[39m'\u001b[39;49m\u001b[39mpadding\u001b[39;49m\u001b[39m'\u001b[39;49m: \u001b[39m'\u001b[39;49m\u001b[39m0\u001b[39;49m\u001b[39m'\u001b[39;49m},\n\u001b[0;32m     69\u001b[0m                             labelCheckedClassName\u001b[39m=\u001b[39;49m\u001b[39m\"\u001b[39;49m\u001b[39mactive\u001b[39;49m\u001b[39m\"\u001b[39;49m,\n\u001b[0;32m     70\u001b[0m                             options\u001b[39m=\u001b[39;49m[\n\u001b[0;32m     71\u001b[0m                                 {\u001b[39m\"\u001b[39;49m\u001b[39mlabel\u001b[39;49m\u001b[39m\"\u001b[39;49m: \u001b[39m\"\u001b[39;49m\u001b[39m1 Day\u001b[39;49m\u001b[39m\"\u001b[39;49m, \u001b[39m\"\u001b[39;49m\u001b[39mvalue\u001b[39;49m\u001b[39m\"\u001b[39;49m: \u001b[39m'\u001b[39;49m\u001b[39m1d\u001b[39;49m\u001b[39m'\u001b[39;49m},\n\u001b[0;32m     72\u001b[0m                                 {\u001b[39m\"\u001b[39;49m\u001b[39mlabel\u001b[39;49m\u001b[39m\"\u001b[39;49m: \u001b[39m\"\u001b[39;49m\u001b[39m5 Days\u001b[39;49m\u001b[39m\"\u001b[39;49m, \u001b[39m\"\u001b[39;49m\u001b[39mvalue\u001b[39;49m\u001b[39m\"\u001b[39;49m: \u001b[39m'\u001b[39;49m\u001b[39m5d\u001b[39;49m\u001b[39m'\u001b[39;49m},\n\u001b[0;32m     73\u001b[0m                                 {\u001b[39m\"\u001b[39;49m\u001b[39mlabel\u001b[39;49m\u001b[39m\"\u001b[39;49m: \u001b[39m\"\u001b[39;49m\u001b[39m6 Month\u001b[39;49m\u001b[39m\"\u001b[39;49m, \u001b[39m\"\u001b[39;49m\u001b[39mvalue\u001b[39;49m\u001b[39m\"\u001b[39;49m: \u001b[39m'\u001b[39;49m\u001b[39m6mo\u001b[39;49m\u001b[39m'\u001b[39;49m},\n\u001b[0;32m     74\u001b[0m                                 {\u001b[39m\"\u001b[39;49m\u001b[39mlabel\u001b[39;49m\u001b[39m\"\u001b[39;49m: \u001b[39m\"\u001b[39;49m\u001b[39mYTD\u001b[39;49m\u001b[39m\"\u001b[39;49m, \u001b[39m\"\u001b[39;49m\u001b[39mvalue\u001b[39;49m\u001b[39m\"\u001b[39;49m: \u001b[39m'\u001b[39;49m\u001b[39mytd\u001b[39;49m\u001b[39m'\u001b[39;49m},\n\u001b[0;32m     75\u001b[0m                                 {\u001b[39m\"\u001b[39;49m\u001b[39mlabel\u001b[39;49m\u001b[39m\"\u001b[39;49m: \u001b[39m\"\u001b[39;49m\u001b[39m1 Year\u001b[39;49m\u001b[39m\"\u001b[39;49m, \u001b[39m\"\u001b[39;49m\u001b[39mvalue\u001b[39;49m\u001b[39m\"\u001b[39;49m: \u001b[39m'\u001b[39;49m\u001b[39m1y\u001b[39;49m\u001b[39m'\u001b[39;49m},\n\u001b[0;32m     76\u001b[0m                                 {\u001b[39m\"\u001b[39;49m\u001b[39mlabel\u001b[39;49m\u001b[39m\"\u001b[39;49m: \u001b[39m\"\u001b[39;49m\u001b[39m5 Years\u001b[39;49m\u001b[39m\"\u001b[39;49m, \u001b[39m\"\u001b[39;49m\u001b[39mvalue\u001b[39;49m\u001b[39m\"\u001b[39;49m: \u001b[39m'\u001b[39;49m\u001b[39m5y\u001b[39;49m\u001b[39m'\u001b[39;49m},\n\u001b[0;32m     77\u001b[0m                                 {\u001b[39m\"\u001b[39;49m\u001b[39mlabel\u001b[39;49m\u001b[39m\"\u001b[39;49m: \u001b[39m\"\u001b[39;49m\u001b[39m10 Years\u001b[39;49m\u001b[39m\"\u001b[39;49m, \u001b[39m\"\u001b[39;49m\u001b[39mvalue\u001b[39;49m\u001b[39m\"\u001b[39;49m: \u001b[39m'\u001b[39;49m\u001b[39m10y\u001b[39;49m\u001b[39m'\u001b[39;49m},\n\u001b[0;32m     78\u001b[0m                                 {\u001b[39m\"\u001b[39;49m\u001b[39mlabel\u001b[39;49m\u001b[39m\"\u001b[39;49m: \u001b[39m\"\u001b[39;49m\u001b[39mMAX \u001b[39;49m\u001b[39m\"\u001b[39;49m, \u001b[39m\"\u001b[39;49m\u001b[39mvalue\u001b[39;49m\u001b[39m\"\u001b[39;49m: \u001b[39m'\u001b[39;49m\u001b[39mmax\u001b[39;49m\u001b[39m'\u001b[39;49m},],\n\u001b[0;32m     79\u001b[0m                             value\u001b[39m=\u001b[39;49m\u001b[39m'\u001b[39;49m\u001b[39m1d\u001b[39;49m\u001b[39m'\u001b[39;49m,\n\u001b[0;32m     80\u001b[0m                         )]),\n\u001b[0;32m     81\u001b[0m             dbc\u001b[39m.\u001b[39;49mCol\n\u001b[0;32m     82\u001b[0m             (\n\u001b[0;32m     83\u001b[0m                 [\n\u001b[0;32m     84\u001b[0m                     dcc\u001b[39m.\u001b[39;49mDropdown\n\u001b[0;32m     85\u001b[0m                     (\n\u001b[0;32m     86\u001b[0m                     \u001b[39mid\u001b[39;49m\u001b[39m=\u001b[39;49m\u001b[39m'\u001b[39;49m\u001b[39mtimeInterval\u001b[39;49m\u001b[39m'\u001b[39;49m,options\u001b[39m=\u001b[39;49m\n\u001b[0;32m     87\u001b[0m                     [\n\u001b[0;32m     88\u001b[0m                         {\u001b[39m'\u001b[39;49m\u001b[39mlabel\u001b[39;49m\u001b[39m'\u001b[39;49m: \u001b[39m'\u001b[39;49m\u001b[39m1 Minute\u001b[39;49m\u001b[39m'\u001b[39;49m, \u001b[39m'\u001b[39;49m\u001b[39mvalue\u001b[39;49m\u001b[39m'\u001b[39;49m: \u001b[39m'\u001b[39;49m\u001b[39m1m\u001b[39;49m\u001b[39m'\u001b[39;49m},\n\u001b[0;32m     89\u001b[0m                         {\u001b[39m'\u001b[39;49m\u001b[39mlabel\u001b[39;49m\u001b[39m'\u001b[39;49m: \u001b[39m'\u001b[39;49m\u001b[39m15 Minutes\u001b[39;49m\u001b[39m'\u001b[39;49m, \u001b[39m'\u001b[39;49m\u001b[39mvalue\u001b[39;49m\u001b[39m'\u001b[39;49m: \u001b[39m'\u001b[39;49m\u001b[39m15m\u001b[39;49m\u001b[39m\"\u001b[39;49m\u001b[39m'\u001b[39;49m},\n\u001b[0;32m     90\u001b[0m                         {\u001b[39m'\u001b[39;49m\u001b[39mlabel\u001b[39;49m\u001b[39m'\u001b[39;49m: \u001b[39m'\u001b[39;49m\u001b[39m30 Minute\u001b[39;49m\u001b[39m'\u001b[39;49m, \u001b[39m'\u001b[39;49m\u001b[39mvalue\u001b[39;49m\u001b[39m'\u001b[39;49m: \u001b[39m'\u001b[39;49m\u001b[39m30m\u001b[39;49m\u001b[39m'\u001b[39;49m},\n\u001b[0;32m     91\u001b[0m                         {\u001b[39m'\u001b[39;49m\u001b[39mlabel\u001b[39;49m\u001b[39m'\u001b[39;49m: \u001b[39m'\u001b[39;49m\u001b[39m60 Minute\u001b[39;49m\u001b[39m'\u001b[39;49m, \u001b[39m'\u001b[39;49m\u001b[39mvalue\u001b[39;49m\u001b[39m'\u001b[39;49m: \u001b[39m'\u001b[39;49m\u001b[39m60m\u001b[39;49m\u001b[39m'\u001b[39;49m},\n\u001b[0;32m     92\u001b[0m                         {\u001b[39m'\u001b[39;49m\u001b[39mlabel\u001b[39;49m\u001b[39m'\u001b[39;49m: \u001b[39m'\u001b[39;49m\u001b[39m1 Day\u001b[39;49m\u001b[39m'\u001b[39;49m, \u001b[39m'\u001b[39;49m\u001b[39mvalue\u001b[39;49m\u001b[39m'\u001b[39;49m: \u001b[39m'\u001b[39;49m\u001b[39m1d\u001b[39;49m\u001b[39m'\u001b[39;49m}],\n\u001b[0;32m     93\u001b[0m                         optionHeight\u001b[39m=\u001b[39;49m\u001b[39m15\u001b[39;49m,         \n\u001b[0;32m     94\u001b[0m                         value\u001b[39m=\u001b[39;49m\u001b[39m'\u001b[39;49m\u001b[39mBorough\u001b[39;49m\u001b[39m'\u001b[39;49m,                   \n\u001b[0;32m     95\u001b[0m                         disabled\u001b[39m=\u001b[39;49m\u001b[39mFalse\u001b[39;49;00m,                   \n\u001b[0;32m     96\u001b[0m                         multi\u001b[39m=\u001b[39;49m\u001b[39mFalse\u001b[39;49;00m,                        \n\u001b[0;32m     97\u001b[0m                         searchable\u001b[39m=\u001b[39;49m\u001b[39mTrue\u001b[39;49;00m,                    \n\u001b[0;32m     98\u001b[0m                         search_value\u001b[39m=\u001b[39;49m\u001b[39m'\u001b[39;49m\u001b[39m'\u001b[39;49m,                   \n\u001b[0;32m     99\u001b[0m                         placeholder\u001b[39m=\u001b[39;49m\u001b[39m'\u001b[39;49m\u001b[39mTime Interval\u001b[39;49m\u001b[39m'\u001b[39;49m,     \n\u001b[0;32m    100\u001b[0m                         clearable\u001b[39m=\u001b[39;49m\u001b[39mTrue\u001b[39;49;00m,                     \n\u001b[0;32m    101\u001b[0m                          style\u001b[39m=\u001b[39;49m{\u001b[39m'\u001b[39;49m\u001b[39mwidth\u001b[39;49m\u001b[39m'\u001b[39;49m:\u001b[39m'\u001b[39;49m\u001b[39m110px\u001b[39;49m\u001b[39m'\u001b[39;49m,\u001b[39m'\u001b[39;49m\u001b[39mfont-size\u001b[39;49m\u001b[39m'\u001b[39;49m:\u001b[39m'\u001b[39;49m\u001b[39m12px\u001b[39;49m\u001b[39m'\u001b[39;49m,\u001b[39m'\u001b[39;49m\u001b[39mcolor\u001b[39;49m\u001b[39m'\u001b[39;49m:\u001b[39m'\u001b[39;49m\u001b[39mblack\u001b[39;49m\u001b[39m'\u001b[39;49m,\n\u001b[0;32m    102\u001b[0m                             \u001b[39m'\u001b[39;49m\u001b[39mbackground-color\u001b[39;49m\u001b[39m'\u001b[39;49m:\u001b[39m'\u001b[39;49m\u001b[39mblack\u001b[39;49m\u001b[39m'\u001b[39;49m,\u001b[39m'\u001b[39;49m\u001b[39mfont-color\u001b[39;49m\u001b[39m'\u001b[39;49m:\u001b[39m'\u001b[39;49m\u001b[39m#ffffff\u001b[39;49m\u001b[39m'\u001b[39;49m,\n\u001b[0;32m    103\u001b[0m                             \u001b[39m'\u001b[39;49m\u001b[39mmargin-bottom\u001b[39;49m\u001b[39m'\u001b[39;49m:\u001b[39m'\u001b[39;49m\u001b[39m10px\u001b[39;49m\u001b[39m'\u001b[39;49m}\n\u001b[0;32m    104\u001b[0m                     )\n\u001b[0;32m    105\u001b[0m                 ]  \n\u001b[0;32m    106\u001b[0m             ), \u001b[39mid\u001b[39;49m\u001b[39m=\u001b[39;49m\u001b[39m'\u001b[39;49m\u001b[39mtimeContainer\u001b[39;49m\u001b[39m'\u001b[39;49m,style\u001b[39m=\u001b[39;49m{\u001b[39m'\u001b[39;49m\u001b[39mdisplay\u001b[39;49m\u001b[39m'\u001b[39;49m:\u001b[39m'\u001b[39;49m\u001b[39mblock\u001b[39;49m\u001b[39m'\u001b[39;49m}\n\u001b[0;32m    107\u001b[0m     ) \n\u001b[0;32m    108\u001b[0m )\n",
      "File \u001b[1;32mc:\\Users\\97254\\AppData\\Local\\Programs\\Python\\Python311\\Lib\\site-packages\\dash\\development\\base_component.py:420\u001b[0m, in \u001b[0;36m_explicitize_args.<locals>.wrapper\u001b[1;34m(*args, **kwargs)\u001b[0m\n\u001b[0;32m    418\u001b[0m \u001b[39mif\u001b[39;00m \u001b[39m\"\u001b[39m\u001b[39mself\u001b[39m\u001b[39m\"\u001b[39m \u001b[39min\u001b[39;00m kwargs[\u001b[39m\"\u001b[39m\u001b[39m_explicit_args\u001b[39m\u001b[39m\"\u001b[39m]:\n\u001b[0;32m    419\u001b[0m     kwargs[\u001b[39m\"\u001b[39m\u001b[39m_explicit_args\u001b[39m\u001b[39m\"\u001b[39m]\u001b[39m.\u001b[39mremove(\u001b[39m\"\u001b[39m\u001b[39mself\u001b[39m\u001b[39m\"\u001b[39m)\n\u001b[1;32m--> 420\u001b[0m \u001b[39mreturn\u001b[39;00m func(\u001b[39m*\u001b[39;49margs, \u001b[39m*\u001b[39;49m\u001b[39m*\u001b[39;49mkwargs)\n",
      "\u001b[1;31mTypeError\u001b[0m: Row.__init__() got multiple values for argument 'id'"
     ]
    }
   ],
   "source": [
    "layout1(app)"
   ]
  },
  {
   "cell_type": "code",
   "execution_count": 11,
   "metadata": {},
   "outputs": [],
   "source": [
    "app.run_server(mode='inline')"
   ]
  }
 ],
 "metadata": {
  "kernelspec": {
   "display_name": "Python 3",
   "language": "python",
   "name": "python3"
  },
  "language_info": {
   "codemirror_mode": {
    "name": "ipython",
    "version": 3
   },
   "file_extension": ".py",
   "mimetype": "text/x-python",
   "name": "python",
   "nbconvert_exporter": "python",
   "pygments_lexer": "ipython3",
   "version": "3.11.1"
  },
  "orig_nbformat": 4,
  "vscode": {
   "interpreter": {
    "hash": "11f447cc66cbb6519636091baeb8a80517f8f7e7c808964b5a24a296227a0751"
   }
  }
 },
 "nbformat": 4,
 "nbformat_minor": 2
}
